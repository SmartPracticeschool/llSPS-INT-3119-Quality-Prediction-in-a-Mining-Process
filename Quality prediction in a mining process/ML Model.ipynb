{
 "cells": [
  {
   "cell_type": "markdown",
   "metadata": {},
   "source": [
    "# Model building for Quality prediction in Mining process"
   ]
  },
  {
   "cell_type": "markdown",
   "metadata": {},
   "source": [
    "### Importing the libraries"
   ]
  },
  {
   "cell_type": "code",
   "execution_count": 1,
   "metadata": {},
   "outputs": [],
   "source": [
    "import numpy as np\n",
    "import pandas as pd\n",
    "import matplotlib.pyplot as plt"
   ]
  },
  {
   "cell_type": "markdown",
   "metadata": {},
   "source": [
    "### Importing the clean dataset"
   ]
  },
  {
   "cell_type": "code",
   "execution_count": 2,
   "metadata": {},
   "outputs": [
    {
     "data": {
      "text/html": [
       "<div>\n",
       "<style scoped>\n",
       "    .dataframe tbody tr th:only-of-type {\n",
       "        vertical-align: middle;\n",
       "    }\n",
       "\n",
       "    .dataframe tbody tr th {\n",
       "        vertical-align: top;\n",
       "    }\n",
       "\n",
       "    .dataframe thead th {\n",
       "        text-align: right;\n",
       "    }\n",
       "</style>\n",
       "<table border=\"1\" class=\"dataframe\">\n",
       "  <thead>\n",
       "    <tr style=\"text-align: right;\">\n",
       "      <th></th>\n",
       "      <th>Unnamed: 0</th>\n",
       "      <th>% Iron Feed</th>\n",
       "      <th>% Silica Feed</th>\n",
       "      <th>Starch Flow</th>\n",
       "      <th>Amina Flow</th>\n",
       "      <th>Ore Pulp pH</th>\n",
       "      <th>Ore Pulp Density</th>\n",
       "      <th>Flotation Column 01 Air Flow</th>\n",
       "      <th>Flotation Column 02 Air Flow</th>\n",
       "      <th>Flotation Column 03 Air Flow</th>\n",
       "      <th>Flotation Column 06 Air Flow</th>\n",
       "      <th>Flotation Column 07 Air Flow</th>\n",
       "      <th>Flotation Column 03 Level</th>\n",
       "      <th>Flotation Column 04 Level</th>\n",
       "      <th>Flotation Column 05 Level</th>\n",
       "      <th>Flotation Column 06 Level</th>\n",
       "      <th>Flotation Column 07 Level</th>\n",
       "      <th>% Iron Concentrate</th>\n",
       "      <th>% Silica Concentrate</th>\n",
       "    </tr>\n",
       "  </thead>\n",
       "  <tbody>\n",
       "    <tr>\n",
       "      <th>0</th>\n",
       "      <td>0</td>\n",
       "      <td>55.20</td>\n",
       "      <td>16.98</td>\n",
       "      <td>3019.53</td>\n",
       "      <td>557.434</td>\n",
       "      <td>10.06640</td>\n",
       "      <td>1.74000</td>\n",
       "      <td>249.214</td>\n",
       "      <td>253.235</td>\n",
       "      <td>250.576</td>\n",
       "      <td>250.225</td>\n",
       "      <td>250.884</td>\n",
       "      <td>424.954</td>\n",
       "      <td>443.558</td>\n",
       "      <td>502.255</td>\n",
       "      <td>446.370</td>\n",
       "      <td>523.344</td>\n",
       "      <td>66.91</td>\n",
       "      <td>1.31</td>\n",
       "    </tr>\n",
       "    <tr>\n",
       "      <th>1</th>\n",
       "      <td>1</td>\n",
       "      <td>55.20</td>\n",
       "      <td>16.98</td>\n",
       "      <td>3024.41</td>\n",
       "      <td>563.965</td>\n",
       "      <td>10.06720</td>\n",
       "      <td>1.74000</td>\n",
       "      <td>249.719</td>\n",
       "      <td>250.532</td>\n",
       "      <td>250.862</td>\n",
       "      <td>250.137</td>\n",
       "      <td>248.994</td>\n",
       "      <td>432.939</td>\n",
       "      <td>448.086</td>\n",
       "      <td>496.363</td>\n",
       "      <td>445.922</td>\n",
       "      <td>498.075</td>\n",
       "      <td>66.91</td>\n",
       "      <td>1.31</td>\n",
       "    </tr>\n",
       "    <tr>\n",
       "      <th>2</th>\n",
       "      <td>2</td>\n",
       "      <td>55.20</td>\n",
       "      <td>16.98</td>\n",
       "      <td>3043.46</td>\n",
       "      <td>568.054</td>\n",
       "      <td>10.06800</td>\n",
       "      <td>1.74000</td>\n",
       "      <td>249.741</td>\n",
       "      <td>247.874</td>\n",
       "      <td>250.313</td>\n",
       "      <td>251.345</td>\n",
       "      <td>248.071</td>\n",
       "      <td>434.610</td>\n",
       "      <td>449.688</td>\n",
       "      <td>484.411</td>\n",
       "      <td>447.826</td>\n",
       "      <td>458.567</td>\n",
       "      <td>66.91</td>\n",
       "      <td>1.31</td>\n",
       "    </tr>\n",
       "    <tr>\n",
       "      <th>3</th>\n",
       "      <td>3</td>\n",
       "      <td>55.20</td>\n",
       "      <td>16.98</td>\n",
       "      <td>3047.36</td>\n",
       "      <td>568.665</td>\n",
       "      <td>10.06890</td>\n",
       "      <td>1.74000</td>\n",
       "      <td>249.917</td>\n",
       "      <td>254.487</td>\n",
       "      <td>250.049</td>\n",
       "      <td>250.422</td>\n",
       "      <td>251.147</td>\n",
       "      <td>442.865</td>\n",
       "      <td>446.210</td>\n",
       "      <td>471.411</td>\n",
       "      <td>437.690</td>\n",
       "      <td>427.669</td>\n",
       "      <td>66.91</td>\n",
       "      <td>1.31</td>\n",
       "    </tr>\n",
       "    <tr>\n",
       "      <th>4</th>\n",
       "      <td>4</td>\n",
       "      <td>55.20</td>\n",
       "      <td>16.98</td>\n",
       "      <td>3033.69</td>\n",
       "      <td>558.167</td>\n",
       "      <td>10.06970</td>\n",
       "      <td>1.74000</td>\n",
       "      <td>250.203</td>\n",
       "      <td>252.136</td>\n",
       "      <td>249.895</td>\n",
       "      <td>249.983</td>\n",
       "      <td>248.928</td>\n",
       "      <td>450.523</td>\n",
       "      <td>453.670</td>\n",
       "      <td>462.598</td>\n",
       "      <td>443.682</td>\n",
       "      <td>425.679</td>\n",
       "      <td>66.91</td>\n",
       "      <td>1.31</td>\n",
       "    </tr>\n",
       "    <tr>\n",
       "      <th>...</th>\n",
       "      <td>...</td>\n",
       "      <td>...</td>\n",
       "      <td>...</td>\n",
       "      <td>...</td>\n",
       "      <td>...</td>\n",
       "      <td>...</td>\n",
       "      <td>...</td>\n",
       "      <td>...</td>\n",
       "      <td>...</td>\n",
       "      <td>...</td>\n",
       "      <td>...</td>\n",
       "      <td>...</td>\n",
       "      <td>...</td>\n",
       "      <td>...</td>\n",
       "      <td>...</td>\n",
       "      <td>...</td>\n",
       "      <td>...</td>\n",
       "      <td>...</td>\n",
       "      <td>...</td>\n",
       "    </tr>\n",
       "    <tr>\n",
       "      <th>717883</th>\n",
       "      <td>717883</td>\n",
       "      <td>49.75</td>\n",
       "      <td>23.20</td>\n",
       "      <td>2710.94</td>\n",
       "      <td>441.052</td>\n",
       "      <td>9.62129</td>\n",
       "      <td>1.65365</td>\n",
       "      <td>302.344</td>\n",
       "      <td>298.786</td>\n",
       "      <td>299.163</td>\n",
       "      <td>346.794</td>\n",
       "      <td>313.695</td>\n",
       "      <td>872.008</td>\n",
       "      <td>418.725</td>\n",
       "      <td>497.548</td>\n",
       "      <td>446.357</td>\n",
       "      <td>416.892</td>\n",
       "      <td>64.27</td>\n",
       "      <td>1.71</td>\n",
       "    </tr>\n",
       "    <tr>\n",
       "      <th>717884</th>\n",
       "      <td>717884</td>\n",
       "      <td>49.75</td>\n",
       "      <td>23.20</td>\n",
       "      <td>2692.01</td>\n",
       "      <td>473.436</td>\n",
       "      <td>9.62063</td>\n",
       "      <td>1.65352</td>\n",
       "      <td>303.013</td>\n",
       "      <td>301.879</td>\n",
       "      <td>299.487</td>\n",
       "      <td>330.023</td>\n",
       "      <td>236.700</td>\n",
       "      <td>864.409</td>\n",
       "      <td>418.377</td>\n",
       "      <td>506.398</td>\n",
       "      <td>372.995</td>\n",
       "      <td>426.337</td>\n",
       "      <td>64.27</td>\n",
       "      <td>1.71</td>\n",
       "    </tr>\n",
       "    <tr>\n",
       "      <th>717885</th>\n",
       "      <td>717885</td>\n",
       "      <td>49.75</td>\n",
       "      <td>23.20</td>\n",
       "      <td>2692.20</td>\n",
       "      <td>500.488</td>\n",
       "      <td>9.61874</td>\n",
       "      <td>1.65338</td>\n",
       "      <td>303.662</td>\n",
       "      <td>307.397</td>\n",
       "      <td>299.487</td>\n",
       "      <td>329.590</td>\n",
       "      <td>225.879</td>\n",
       "      <td>867.598</td>\n",
       "      <td>419.531</td>\n",
       "      <td>503.414</td>\n",
       "      <td>336.035</td>\n",
       "      <td>433.130</td>\n",
       "      <td>64.27</td>\n",
       "      <td>1.71</td>\n",
       "    </tr>\n",
       "    <tr>\n",
       "      <th>717886</th>\n",
       "      <td>717886</td>\n",
       "      <td>49.75</td>\n",
       "      <td>23.20</td>\n",
       "      <td>1164.12</td>\n",
       "      <td>491.548</td>\n",
       "      <td>9.61686</td>\n",
       "      <td>1.65324</td>\n",
       "      <td>302.550</td>\n",
       "      <td>301.959</td>\n",
       "      <td>298.045</td>\n",
       "      <td>351.453</td>\n",
       "      <td>308.115</td>\n",
       "      <td>876.591</td>\n",
       "      <td>407.299</td>\n",
       "      <td>502.301</td>\n",
       "      <td>340.844</td>\n",
       "      <td>433.966</td>\n",
       "      <td>64.27</td>\n",
       "      <td>1.71</td>\n",
       "    </tr>\n",
       "    <tr>\n",
       "      <th>717887</th>\n",
       "      <td>717887</td>\n",
       "      <td>49.75</td>\n",
       "      <td>23.20</td>\n",
       "      <td>1164.12</td>\n",
       "      <td>468.019</td>\n",
       "      <td>9.61497</td>\n",
       "      <td>1.65310</td>\n",
       "      <td>300.355</td>\n",
       "      <td>292.865</td>\n",
       "      <td>298.625</td>\n",
       "      <td>362.464</td>\n",
       "      <td>308.115</td>\n",
       "      <td>881.323</td>\n",
       "      <td>378.969</td>\n",
       "      <td>500.100</td>\n",
       "      <td>374.354</td>\n",
       "      <td>441.182</td>\n",
       "      <td>64.27</td>\n",
       "      <td>1.71</td>\n",
       "    </tr>\n",
       "  </tbody>\n",
       "</table>\n",
       "<p>717888 rows × 19 columns</p>\n",
       "</div>"
      ],
      "text/plain": [
       "        Unnamed: 0  % Iron Feed  % Silica Feed  Starch Flow  Amina Flow  \\\n",
       "0                0        55.20          16.98      3019.53     557.434   \n",
       "1                1        55.20          16.98      3024.41     563.965   \n",
       "2                2        55.20          16.98      3043.46     568.054   \n",
       "3                3        55.20          16.98      3047.36     568.665   \n",
       "4                4        55.20          16.98      3033.69     558.167   \n",
       "...            ...          ...            ...          ...         ...   \n",
       "717883      717883        49.75          23.20      2710.94     441.052   \n",
       "717884      717884        49.75          23.20      2692.01     473.436   \n",
       "717885      717885        49.75          23.20      2692.20     500.488   \n",
       "717886      717886        49.75          23.20      1164.12     491.548   \n",
       "717887      717887        49.75          23.20      1164.12     468.019   \n",
       "\n",
       "        Ore Pulp pH  Ore Pulp Density  Flotation Column 01 Air Flow  \\\n",
       "0          10.06640           1.74000                       249.214   \n",
       "1          10.06720           1.74000                       249.719   \n",
       "2          10.06800           1.74000                       249.741   \n",
       "3          10.06890           1.74000                       249.917   \n",
       "4          10.06970           1.74000                       250.203   \n",
       "...             ...               ...                           ...   \n",
       "717883      9.62129           1.65365                       302.344   \n",
       "717884      9.62063           1.65352                       303.013   \n",
       "717885      9.61874           1.65338                       303.662   \n",
       "717886      9.61686           1.65324                       302.550   \n",
       "717887      9.61497           1.65310                       300.355   \n",
       "\n",
       "        Flotation Column 02 Air Flow  Flotation Column 03 Air Flow  \\\n",
       "0                            253.235                       250.576   \n",
       "1                            250.532                       250.862   \n",
       "2                            247.874                       250.313   \n",
       "3                            254.487                       250.049   \n",
       "4                            252.136                       249.895   \n",
       "...                              ...                           ...   \n",
       "717883                       298.786                       299.163   \n",
       "717884                       301.879                       299.487   \n",
       "717885                       307.397                       299.487   \n",
       "717886                       301.959                       298.045   \n",
       "717887                       292.865                       298.625   \n",
       "\n",
       "        Flotation Column 06 Air Flow  Flotation Column 07 Air Flow  \\\n",
       "0                            250.225                       250.884   \n",
       "1                            250.137                       248.994   \n",
       "2                            251.345                       248.071   \n",
       "3                            250.422                       251.147   \n",
       "4                            249.983                       248.928   \n",
       "...                              ...                           ...   \n",
       "717883                       346.794                       313.695   \n",
       "717884                       330.023                       236.700   \n",
       "717885                       329.590                       225.879   \n",
       "717886                       351.453                       308.115   \n",
       "717887                       362.464                       308.115   \n",
       "\n",
       "        Flotation Column 03 Level  Flotation Column 04 Level  \\\n",
       "0                         424.954                    443.558   \n",
       "1                         432.939                    448.086   \n",
       "2                         434.610                    449.688   \n",
       "3                         442.865                    446.210   \n",
       "4                         450.523                    453.670   \n",
       "...                           ...                        ...   \n",
       "717883                    872.008                    418.725   \n",
       "717884                    864.409                    418.377   \n",
       "717885                    867.598                    419.531   \n",
       "717886                    876.591                    407.299   \n",
       "717887                    881.323                    378.969   \n",
       "\n",
       "        Flotation Column 05 Level  Flotation Column 06 Level  \\\n",
       "0                         502.255                    446.370   \n",
       "1                         496.363                    445.922   \n",
       "2                         484.411                    447.826   \n",
       "3                         471.411                    437.690   \n",
       "4                         462.598                    443.682   \n",
       "...                           ...                        ...   \n",
       "717883                    497.548                    446.357   \n",
       "717884                    506.398                    372.995   \n",
       "717885                    503.414                    336.035   \n",
       "717886                    502.301                    340.844   \n",
       "717887                    500.100                    374.354   \n",
       "\n",
       "        Flotation Column 07 Level  % Iron Concentrate  % Silica Concentrate  \n",
       "0                         523.344               66.91                  1.31  \n",
       "1                         498.075               66.91                  1.31  \n",
       "2                         458.567               66.91                  1.31  \n",
       "3                         427.669               66.91                  1.31  \n",
       "4                         425.679               66.91                  1.31  \n",
       "...                           ...                 ...                   ...  \n",
       "717883                    416.892               64.27                  1.71  \n",
       "717884                    426.337               64.27                  1.71  \n",
       "717885                    433.130               64.27                  1.71  \n",
       "717886                    433.966               64.27                  1.71  \n",
       "717887                    441.182               64.27                  1.71  \n",
       "\n",
       "[717888 rows x 19 columns]"
      ]
     },
     "execution_count": 2,
     "metadata": {},
     "output_type": "execute_result"
    }
   ],
   "source": [
    "dataset=pd.read_csv('ML_data.csv')\n",
    "dataset"
   ]
  },
  {
   "cell_type": "markdown",
   "metadata": {},
   "source": [
    "### Seperating independent and dependent variables"
   ]
  },
  {
   "cell_type": "code",
   "execution_count": 3,
   "metadata": {},
   "outputs": [
    {
     "data": {
      "text/plain": [
       "array([[  55.2  ,   16.98 , 3019.53 , ...,  446.37 ,  523.344,   66.91 ],\n",
       "       [  55.2  ,   16.98 , 3024.41 , ...,  445.922,  498.075,   66.91 ],\n",
       "       [  55.2  ,   16.98 , 3043.46 , ...,  447.826,  458.567,   66.91 ],\n",
       "       ...,\n",
       "       [  49.75 ,   23.2  , 2692.2  , ...,  336.035,  433.13 ,   64.27 ],\n",
       "       [  49.75 ,   23.2  , 1164.12 , ...,  340.844,  433.966,   64.27 ],\n",
       "       [  49.75 ,   23.2  , 1164.12 , ...,  374.354,  441.182,   64.27 ]])"
      ]
     },
     "execution_count": 3,
     "metadata": {},
     "output_type": "execute_result"
    }
   ],
   "source": [
    "x=dataset.iloc[:,1:-1].values\n",
    "x"
   ]
  },
  {
   "cell_type": "code",
   "execution_count": 4,
   "metadata": {},
   "outputs": [
    {
     "data": {
      "text/plain": [
       "(717888, 17)"
      ]
     },
     "execution_count": 4,
     "metadata": {},
     "output_type": "execute_result"
    }
   ],
   "source": [
    "x.shape"
   ]
  },
  {
   "cell_type": "code",
   "execution_count": 5,
   "metadata": {},
   "outputs": [
    {
     "data": {
      "text/plain": [
       "array([1.31, 1.31, 1.31, ..., 1.71, 1.71, 1.71])"
      ]
     },
     "execution_count": 5,
     "metadata": {},
     "output_type": "execute_result"
    }
   ],
   "source": [
    "y=dataset.iloc[:,-1].values\n",
    "y"
   ]
  },
  {
   "cell_type": "markdown",
   "metadata": {},
   "source": [
    "### Splitting Data Into Train And Test"
   ]
  },
  {
   "cell_type": "code",
   "execution_count": 6,
   "metadata": {},
   "outputs": [],
   "source": [
    "from sklearn.model_selection import train_test_split\n",
    "x_train,x_test,y_train,y_test=train_test_split(x,y,test_size=0.2,random_state=0)"
   ]
  },
  {
   "cell_type": "code",
   "execution_count": 7,
   "metadata": {},
   "outputs": [
    {
     "data": {
      "text/plain": [
       "array([6.40300000e+01, 6.26000000e+00, 3.45998000e+03, 5.87074000e+02,\n",
       "       9.87521000e+00, 1.71349000e+00, 2.99707000e+02, 2.47866000e+02,\n",
       "       2.98991000e+02, 2.98704000e+02, 2.98035000e+02, 4.55646000e+02,\n",
       "       3.51549000e+02, 3.48525000e+02, 2.46531688e+02, 3.54954000e+02,\n",
       "       6.34100000e+01])"
      ]
     },
     "execution_count": 7,
     "metadata": {},
     "output_type": "execute_result"
    }
   ],
   "source": [
    "x_train[100]"
   ]
  },
  {
   "cell_type": "markdown",
   "metadata": {},
   "source": [
    "### Feature Scaling"
   ]
  },
  {
   "cell_type": "code",
   "execution_count": 8,
   "metadata": {},
   "outputs": [],
   "source": [
    "# normalizing using standard scalar\n",
    "from sklearn.preprocessing import StandardScaler\n",
    "sc=StandardScaler()"
   ]
  },
  {
   "cell_type": "code",
   "execution_count": 9,
   "metadata": {},
   "outputs": [],
   "source": [
    "x_train=sc.fit_transform(x_train)\n",
    "x_test=sc.transform(x_test)"
   ]
  },
  {
   "cell_type": "markdown",
   "metadata": {},
   "source": [
    "### Training, Testing and Evaluation of Model Using Decision Tree Regressor, Multi Linear Regression and Random Forest Regressor"
   ]
  },
  {
   "cell_type": "markdown",
   "metadata": {},
   "source": [
    "# Multi Linear Regression:"
   ]
  },
  {
   "cell_type": "code",
   "execution_count": 10,
   "metadata": {},
   "outputs": [],
   "source": [
    "from sklearn.linear_model import LinearRegression\n",
    "mr=LinearRegression()"
   ]
  },
  {
   "cell_type": "code",
   "execution_count": 11,
   "metadata": {},
   "outputs": [
    {
     "data": {
      "text/plain": [
       "LinearRegression(copy_X=True, fit_intercept=True, n_jobs=None, normalize=False)"
      ]
     },
     "execution_count": 11,
     "metadata": {},
     "output_type": "execute_result"
    }
   ],
   "source": [
    "mr.fit(x_train,y_train)"
   ]
  },
  {
   "cell_type": "code",
   "execution_count": 12,
   "metadata": {},
   "outputs": [
    {
     "data": {
      "text/plain": [
       "array([1.54233892, 1.97925169, 4.69108445, ..., 3.91748569, 1.1824459 ,\n",
       "       0.8526914 ])"
      ]
     },
     "execution_count": 12,
     "metadata": {},
     "output_type": "execute_result"
    }
   ],
   "source": [
    "y_pred=mr.predict(x_test)\n",
    "y_pred"
   ]
  },
  {
   "cell_type": "code",
   "execution_count": 13,
   "metadata": {},
   "outputs": [
    {
     "data": {
      "text/plain": [
       "0.6689064889176446"
      ]
     },
     "execution_count": 13,
     "metadata": {},
     "output_type": "execute_result"
    }
   ],
   "source": [
    "from sklearn.metrics import r2_score\n",
    "r2_score(y_test,y_pred)"
   ]
  },
  {
   "cell_type": "code",
   "execution_count": 14,
   "metadata": {},
   "outputs": [],
   "source": [
    "from sklearn.metrics import mean_squared_error\n",
    "from sklearn.metrics import mean_absolute_error\n",
    "msem = mean_squared_error(y_test,y_pred)"
   ]
  },
  {
   "cell_type": "code",
   "execution_count": 15,
   "metadata": {},
   "outputs": [
    {
     "data": {
      "text/plain": [
       "0.410810395667258"
      ]
     },
     "execution_count": 15,
     "metadata": {},
     "output_type": "execute_result"
    }
   ],
   "source": [
    "maem = mean_absolute_error(y_test,y_pred)\n",
    "msem"
   ]
  },
  {
   "cell_type": "code",
   "execution_count": 16,
   "metadata": {},
   "outputs": [
    {
     "data": {
      "text/plain": [
       "0.493832775699165"
      ]
     },
     "execution_count": 16,
     "metadata": {},
     "output_type": "execute_result"
    }
   ],
   "source": [
    "maem"
   ]
  },
  {
   "cell_type": "markdown",
   "metadata": {},
   "source": [
    "# Decision Tree Regressor:"
   ]
  },
  {
   "cell_type": "code",
   "execution_count": 17,
   "metadata": {},
   "outputs": [],
   "source": [
    "from sklearn.tree import DecisionTreeRegressor\n",
    "dt=DecisionTreeRegressor(criterion='mse',random_state=0)"
   ]
  },
  {
   "cell_type": "code",
   "execution_count": 18,
   "metadata": {},
   "outputs": [
    {
     "data": {
      "text/plain": [
       "DecisionTreeRegressor(ccp_alpha=0.0, criterion='mse', max_depth=None,\n",
       "                      max_features=None, max_leaf_nodes=None,\n",
       "                      min_impurity_decrease=0.0, min_impurity_split=None,\n",
       "                      min_samples_leaf=1, min_samples_split=2,\n",
       "                      min_weight_fraction_leaf=0.0, presort='deprecated',\n",
       "                      random_state=0, splitter='best')"
      ]
     },
     "execution_count": 18,
     "metadata": {},
     "output_type": "execute_result"
    }
   ],
   "source": [
    "dt.fit(x_train,y_train)"
   ]
  },
  {
   "cell_type": "code",
   "execution_count": 19,
   "metadata": {},
   "outputs": [
    {
     "data": {
      "text/plain": [
       "array([1.54      , 1.26      , 4.64220994, ..., 4.24      , 1.09      ,\n",
       "       1.07      ])"
      ]
     },
     "execution_count": 19,
     "metadata": {},
     "output_type": "execute_result"
    }
   ],
   "source": [
    "y_pred=dt.predict(x_test)\n",
    "y_pred"
   ]
  },
  {
   "cell_type": "code",
   "execution_count": 20,
   "metadata": {},
   "outputs": [
    {
     "data": {
      "text/plain": [
       "0.994939944055702"
      ]
     },
     "execution_count": 20,
     "metadata": {},
     "output_type": "execute_result"
    }
   ],
   "source": [
    "from sklearn.metrics import r2_score\n",
    "r2_score(y_test,y_pred)"
   ]
  },
  {
   "cell_type": "code",
   "execution_count": 21,
   "metadata": {},
   "outputs": [],
   "source": [
    "from sklearn.metrics import mean_squared_error\n",
    "from sklearn.metrics import mean_absolute_error\n",
    "msed = mean_squared_error(y_test,y_pred)"
   ]
  },
  {
   "cell_type": "code",
   "execution_count": 22,
   "metadata": {},
   "outputs": [
    {
     "data": {
      "text/plain": [
       "0.00627835797137829"
      ]
     },
     "execution_count": 22,
     "metadata": {},
     "output_type": "execute_result"
    }
   ],
   "source": [
    "maed = mean_absolute_error(y_test,y_pred)\n",
    "msed"
   ]
  },
  {
   "cell_type": "code",
   "execution_count": 23,
   "metadata": {},
   "outputs": [
    {
     "data": {
      "text/plain": [
       "0.00607762508886812"
      ]
     },
     "execution_count": 23,
     "metadata": {},
     "output_type": "execute_result"
    }
   ],
   "source": [
    "maed"
   ]
  },
  {
   "cell_type": "markdown",
   "metadata": {},
   "source": [
    "# Random Forest Regressor:"
   ]
  },
  {
   "cell_type": "code",
   "execution_count": 24,
   "metadata": {},
   "outputs": [
    {
     "data": {
      "text/plain": [
       "RandomForestRegressor(bootstrap=True, ccp_alpha=0.0, criterion='mse',\n",
       "                      max_depth=None, max_features='auto', max_leaf_nodes=None,\n",
       "                      max_samples=None, min_impurity_decrease=0.0,\n",
       "                      min_impurity_split=None, min_samples_leaf=1,\n",
       "                      min_samples_split=2, min_weight_fraction_leaf=0.0,\n",
       "                      n_estimators=10, n_jobs=None, oob_score=False,\n",
       "                      random_state=0, verbose=0, warm_start=False)"
      ]
     },
     "execution_count": 24,
     "metadata": {},
     "output_type": "execute_result"
    }
   ],
   "source": [
    "from sklearn.ensemble import RandomForestRegressor\n",
    "rf=RandomForestRegressor(n_estimators=10,criterion='mse',random_state=0)\n",
    "rf.fit(x_train,y_train)"
   ]
  },
  {
   "cell_type": "code",
   "execution_count": 25,
   "metadata": {},
   "outputs": [
    {
     "data": {
      "text/plain": [
       "['rfg.save']"
      ]
     },
     "execution_count": 25,
     "metadata": {},
     "output_type": "execute_result"
    }
   ],
   "source": [
    "from joblib import dump\n",
    "dump(rf,'rfg.save')"
   ]
  },
  {
   "cell_type": "code",
   "execution_count": 26,
   "metadata": {},
   "outputs": [
    {
     "data": {
      "text/plain": [
       "array([1.54      , 1.26      , 4.7246552 , ..., 4.24000932, 1.09      ,\n",
       "       1.07      ])"
      ]
     },
     "execution_count": 26,
     "metadata": {},
     "output_type": "execute_result"
    }
   ],
   "source": [
    "y_pred=rf.predict(x_test)\n",
    "y_pred"
   ]
  },
  {
   "cell_type": "code",
   "execution_count": 27,
   "metadata": {},
   "outputs": [
    {
     "data": {
      "text/plain": [
       "0.9980343919324163"
      ]
     },
     "execution_count": 27,
     "metadata": {},
     "output_type": "execute_result"
    }
   ],
   "source": [
    "from sklearn.metrics import r2_score\n",
    "r2_score(y_test,y_pred)"
   ]
  },
  {
   "cell_type": "code",
   "execution_count": 28,
   "metadata": {},
   "outputs": [],
   "source": [
    "from sklearn.metrics import mean_squared_error\n",
    "from sklearn.metrics import mean_absolute_error\n",
    "mser = mean_squared_error(y_test,y_pred)"
   ]
  },
  {
   "cell_type": "code",
   "execution_count": 29,
   "metadata": {},
   "outputs": [
    {
     "data": {
      "text/plain": [
       "0.0024388645531925515"
      ]
     },
     "execution_count": 29,
     "metadata": {},
     "output_type": "execute_result"
    }
   ],
   "source": [
    "maer = mean_absolute_error(y_test,y_pred)\n",
    "mser"
   ]
  },
  {
   "cell_type": "code",
   "execution_count": 30,
   "metadata": {},
   "outputs": [
    {
     "data": {
      "text/plain": [
       "0.009222817392457339"
      ]
     },
     "execution_count": 30,
     "metadata": {},
     "output_type": "execute_result"
    }
   ],
   "source": [
    "maer"
   ]
  },
  {
   "cell_type": "code",
   "execution_count": 31,
   "metadata": {},
   "outputs": [
    {
     "data": {
      "text/plain": [
       "array([ 1.49336977, -1.2300543 ,  0.4687905 ,  1.08505718,  0.26213061,\n",
       "        0.47162572,  0.66376364, -1.1098551 ,  0.61834672,  0.1856932 ,\n",
       "        0.22157487, -0.47874596, -0.73353628, -0.90548681, -2.05371114,\n",
       "       -0.76816414, -1.49000759])"
      ]
     },
     "execution_count": 31,
     "metadata": {},
     "output_type": "execute_result"
    }
   ],
   "source": [
    "x_train[100]"
   ]
  },
  {
   "cell_type": "code",
   "execution_count": 32,
   "metadata": {},
   "outputs": [
    {
     "data": {
      "text/plain": [
       "5.08"
      ]
     },
     "execution_count": 32,
     "metadata": {},
     "output_type": "execute_result"
    }
   ],
   "source": [
    "y_train[100]"
   ]
  },
  {
   "cell_type": "code",
   "execution_count": 33,
   "metadata": {},
   "outputs": [
    {
     "data": {
      "text/plain": [
       "array([5.08])"
      ]
     },
     "execution_count": 33,
     "metadata": {},
     "output_type": "execute_result"
    }
   ],
   "source": [
    "z=rf.predict([[1.49336977, -1.2300543 ,  0.4687905 ,  1.08505718,  0.26213061, 0.47162572,  0.66376364, -1.1098551 ,  0.61834672,  0.1856932 , 0.22157487, -0.47874596, -0.73353628, -0.90548681, -2.05371114,  -0.76816414, -1.49000759]])\n",
    "z"
   ]
  },
  {
   "cell_type": "code",
   "execution_count": 34,
   "metadata": {},
   "outputs": [],
   "source": [
    "import pickle\n",
    "#saving the model\n",
    "filename  = 'qualityPrediction.pkl'\n",
    "scalerFile= 'scaler.pkl'\n",
    "pickle.dump(rf, open(filename, 'wb'))\n",
    "pickle.dump(sc, open(scalerFile, 'wb'))"
   ]
  },
  {
   "cell_type": "markdown",
   "metadata": {},
   "source": [
    "# Observation:"
   ]
  },
  {
   "cell_type": "markdown",
   "metadata": {},
   "source": [
    "|Algorithm                |Accuracy             |Accuracy in %\n",
    "|-------------------------|---------------------|--------------\n",
    "|Multi Linear Regression  | 0.6689064889176446  | 66.8%\n",
    "|Decision Tree Regressor  | 0.994939944055702   | 99.4%\n",
    "|Random Forest Regressor  | 0.9980343919324163  | 99.8%"
   ]
  },
  {
   "cell_type": "code",
   "execution_count": null,
   "metadata": {},
   "outputs": [],
   "source": []
  }
 ],
 "metadata": {
  "kernelspec": {
   "display_name": "Python 3",
   "language": "python",
   "name": "python3"
  },
  "language_info": {
   "codemirror_mode": {
    "name": "ipython",
    "version": 3
   },
   "file_extension": ".py",
   "mimetype": "text/x-python",
   "name": "python",
   "nbconvert_exporter": "python",
   "pygments_lexer": "ipython3",
   "version": "3.7.6"
  }
 },
 "nbformat": 4,
 "nbformat_minor": 4
}
